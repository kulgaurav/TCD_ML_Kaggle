{
 "cells": [
  {
   "cell_type": "code",
   "execution_count": 1,
   "metadata": {},
   "outputs": [],
   "source": [
    "import numpy as np\n",
    "import pandas as pd\n",
    "from sklearn.model_selection import train_test_split\n",
    "import matplotlib.pyplot as plt\n",
    "import seaborn as sns\n",
    "from sklearn.metrics import mean_squared_error\n",
    "from math import sqrt\n",
    "\n",
    "from catboost import CatBoostRegressor\n",
    "\n",
    "import lightgbm as lgb\n",
    "from sklearn.preprocessing import LabelEncoder\n",
    "from sklearn.linear_model import LinearRegression\n",
    "\n",
    "#import warnings\n",
    "#warnings.filterwarnings('ignore')\n",
    "\n",
    "%matplotlib inline"
   ]
  },
  {
   "cell_type": "code",
   "execution_count": 2,
   "metadata": {},
   "outputs": [],
   "source": [
    "data = pd.read_csv('Data/tcd-ml-1920-group-income-train.csv', low_memory = False)\n",
    "dataTest  = pd.read_csv('Data/tcd-ml-1920-group-income-test.csv', low_memory = False)"
   ]
  },
  {
   "cell_type": "code",
   "execution_count": 3,
   "metadata": {
    "scrolled": false
   },
   "outputs": [],
   "source": [
    "del_col_list = ['Instance','Hair Color', 'Wears Glasses']\n",
    "data = data.drop(del_col_list, axis=1)\n",
    "data= data[data[\"Income\"]>0]\n",
    "#data.info()\n",
    "data[\"Income\"] = np.log(data[\"Income\"])\n",
    "\n",
    "data_test_original = dataTest\n",
    "del_col_list = ['Instance','Hair Color', 'Wears Glasses']\n",
    "dataTest = dataTest.drop(del_col_list, axis=1)\n",
    "\n"
   ]
  },
  {
   "cell_type": "code",
   "execution_count": 4,
   "metadata": {},
   "outputs": [
    {
     "name": "stdout",
     "output_type": "stream",
     "text": [
      "Old Size :  1048574\n",
      "Duplicates:  144555\n",
      "New Size :  904019\n"
     ]
    }
   ],
   "source": [
    "print(\"Old Size : \" , data.shape[0])\n",
    "print(\"Duplicates: \" , data.duplicated().sum())\n",
    "data.drop_duplicates(inplace=True) \n",
    "print(\"New Size : \" , data.shape[0])"
   ]
  },
  {
   "cell_type": "code",
   "execution_count": 5,
   "metadata": {},
   "outputs": [],
   "source": [
    "data[[\"Year of Record\"]] = data[[\"Year of Record\"]].fillna(value=data[\"Year of Record\"].mode()[0])\n",
    "\n",
    "dataTest[[\"Year of Record\"]] = dataTest[[\"Year of Record\"]].fillna(value=dataTest[\"Year of Record\"].mode()[0])\n"
   ]
  },
  {
   "cell_type": "code",
   "execution_count": 6,
   "metadata": {},
   "outputs": [],
   "source": [
    "year_max_value = data['Size of City'].max()\n",
    "year_min_value = data['Size of City'].min()\n",
    "data['Size of City'] = (data['Size of City'] - year_min_value) / (year_max_value - year_min_value)\n",
    "\n",
    "year_max_value = dataTest['Size of City'].max()\n",
    "year_min_value = dataTest['Size of City'].min()\n",
    "dataTest['Size of City'] = (dataTest['Size of City'] - year_min_value) / (year_max_value - year_min_value)"
   ]
  },
  {
   "cell_type": "code",
   "execution_count": 7,
   "metadata": {},
   "outputs": [],
   "source": [
    "data[[\"Gender\"]] = data[[\"Gender\"]].fillna(value=\"unknownG\")\n",
    "data[['Gender']] = data[['Gender']].replace('0', 'unknownG') \n",
    "data[['Gender']] = data[['Gender']].replace('unknown', 'unknownG')\n",
    "\n",
    "data[[\"University Degree\"]] = data[[\"University Degree\"]].fillna(data[\"University Degree\"].mode()[0])\n",
    "\n",
    "data[[\"Profession\"]] = data[[\"Profession\"]].fillna(value=\"unknownP\")\n",
    "\n",
    "data[['Satisfation with employer']] = data[['Satisfation with employer']].fillna(data[\"Satisfation with employer\"].mode()[0])\n",
    "\n",
    "\n",
    "\n",
    "\n",
    "\n",
    "\n",
    "dataTest[[\"University Degree\"]] = dataTest[[\"University Degree\"]].fillna(dataTest[\"University Degree\"].mode()[0])\n",
    "\n",
    "dataTest[[\"Profession\"]] = dataTest[[\"Profession\"]].fillna(value=\"unknownP\")\n",
    "\n",
    "dataTest[[\"Gender\"]] = dataTest[[\"Gender\"]].fillna(value=\"unknownG\")\n",
    "dataTest[['Gender']] = dataTest[['Gender']].replace('0', 'unknownG') \n",
    "dataTest[['Gender']] = dataTest[['Gender']].replace('unknown', 'unknownG')\n",
    "\n",
    "dataTest[['Satisfation with employer']] = dataTest[['Satisfation with employer']].fillna(data[\"Satisfation with employer\"].mode()[0])\n",
    "dataTest[[\"Country\"]] = dataTest[[\"Country\"]].fillna(dataTest[\"Country\"].mode()[0])"
   ]
  },
  {
   "cell_type": "code",
   "execution_count": 8,
   "metadata": {},
   "outputs": [
    {
     "name": "stdout",
     "output_type": "stream",
     "text": [
      "Train size:  904019\n"
     ]
    }
   ],
   "source": [
    "print(\"Train size: \" , data.shape[0] )\n",
    "dataFull = pd.concat([data,dataTest],ignore_index=True)\n"
   ]
  },
  {
   "cell_type": "code",
   "execution_count": 9,
   "metadata": {},
   "outputs": [],
   "source": [
    "def create_cat_con(df,cats,cons,normalize=True):\n",
    "    for i,cat in enumerate(cats):\n",
    "        vc = df[cat].value_counts(dropna=False, normalize=normalize).to_dict()\n",
    "        nm = cat + '_FE_FULL'\n",
    "        df[nm] = df[cat].map(vc)\n",
    "        df[nm] = df[nm].astype('float32')\n",
    "        for j,con in enumerate(cons):\n",
    "#             print(\"cat %s con %s\"%(cat,con))\n",
    "            new_col = cat +'_'+ con\n",
    "            #print('timeblock frequency encoding:', new_col)\n",
    "            df[new_col] = df[cat].astype(str)+'_'+df[con].astype(str)\n",
    "            temp_df = df[new_col]\n",
    "            fq_encode = temp_df.value_counts(normalize=True).to_dict()\n",
    "            df[new_col] = df[new_col].map(fq_encode)\n",
    "            df[new_col] = df[new_col]/df[cat+'_FE_FULL']\n",
    "    return df"
   ]
  },
  {
   "cell_type": "code",
   "execution_count": 10,
   "metadata": {},
   "outputs": [],
   "source": [
    "cats = ['Year of Record', 'Gender', 'Country',\n",
    "        'Profession', 'University Degree','Age','Housing Situation','Satisfation with employer']\n",
    "\n",
    "\n",
    "cons = ['Size of City','Body Height [cm]','Crime Level in the City of Employement','Work Experience in Current Job [years]'\n",
    "        ,'Yearly Income in addition to Salary (e.g. Rental Income)']\n",
    "\n",
    "\n",
    "dataFull = create_cat_con(dataFull,cats,cons)\n",
    "\n",
    "for col in data.dtypes[data.dtypes == 'object'].index.tolist():\n",
    "    feat_le = LabelEncoder()\n",
    "    feat_le.fit(dataFull[col].unique().astype(str))\n",
    "    dataFull[col] = feat_le.transform(dataFull[col].astype(str))"
   ]
  },
  {
   "cell_type": "code",
   "execution_count": 11,
   "metadata": {},
   "outputs": [],
   "source": [
    "data = dataFull[:904019]\n",
    "dataTest = dataFull[904019:]"
   ]
  },
  {
   "cell_type": "code",
   "execution_count": 12,
   "metadata": {
    "scrolled": false
   },
   "outputs": [],
   "source": [
    "\n",
    "X = data.drop('Income', axis = 1)\n",
    "y = data['Income']\n",
    "\n",
    "X_train, X_validation, y_train, y_validation = train_test_split(X,y,test_size=0.25, random_state=42)\n",
    "\n",
    "# categorical_features_indices = np.where(X.dtypes != np.float)[0]\n",
    "# model=CatBoostRegressor(iterations=125, depth=6, learning_rate=0.1, loss_function='MAE', use_best_model=True , eval_metric='MAE')\n",
    "# model.fit(X_train, y_train,cat_features=categorical_features_indices,eval_set=(X_validation, y_validation),plot=True)"
   ]
  },
  {
   "cell_type": "code",
   "execution_count": null,
   "metadata": {
    "scrolled": true
   },
   "outputs": [],
   "source": [
    "params = {\n",
    "          'max_depth': 20,\n",
    "          'learning_rate': 0.001,\n",
    "          \"boosting\": \"gbdt\",\n",
    "          \"bagging_seed\": 11,\n",
    "          \"metric\": 'mae',\n",
    "          \"verbosity\": -1,\n",
    "            \"device\":'gpu',\n",
    "            \"gpu_use_dp\" : \"true\"\n",
    "         }\n",
    "trn_data = lgb.Dataset(X_train, label=y_train)\n",
    "val_data = lgb.Dataset(X_validation, label=y_validation)\n",
    "# test_data = lgb.Dataset(X_test)\n",
    "model = lgb.train(params, trn_data, 100000, valid_sets = [trn_data, val_data], verbose_eval=1000, early_stopping_rounds=500)\n",
    "'done'"
   ]
  },
  {
   "cell_type": "code",
   "execution_count": 17,
   "metadata": {},
   "outputs": [],
   "source": [
    "\n",
    "dataTest = dataTest.drop('Income', axis = 1)"
   ]
  },
  {
   "cell_type": "code",
   "execution_count": 18,
   "metadata": {},
   "outputs": [],
   "source": [
    "y_pred = model.predict(dataTest)\n",
    "y_pred = y_pred.reshape(-1)"
   ]
  },
  {
   "cell_type": "code",
   "execution_count": 19,
   "metadata": {},
   "outputs": [],
   "source": [
    "instances = data_test_original['Instance'].to_numpy()\n",
    "to_print = pd.DataFrame({'Instance': instances, 'Total Yearly Income [EUR]': np.exp(y_pred)})\n",
    "to_print.to_csv('result.csv', index=False)"
   ]
  },
  {
   "cell_type": "code",
   "execution_count": 12,
   "metadata": {},
   "outputs": [
    {
     "data": {
      "text/plain": [
       "'groupedProf = data.groupby(\\'Profession\\', as_index=False)[\\'Income\\'].mean()\\ndata[\\'Profession\\'] = data[\\'Profession\\'].map(groupedProf.set_index(\\'Profession\\')[\\'Income\\'])\\n\\ngroupedCountry = data.groupby(\\'Country\\', as_index=False)[\\'Income\\'].mean()\\ndata[\\'Country\\'] = data[\\'Country\\'].map(groupedCountry.set_index(\\'Country\\')[\\'Income\\'])\\n\\ngroupedUD = data.groupby(\\'University Degree\\', as_index=False)[\\'Income\\'].mean()\\ndata[\\'University Degree\\'] = data[\\'University Degree\\'].map(groupedUD.set_index(\\'University Degree\\')[\\'Income\\'])\\n\\ngroupedG = data.groupby(\\'Gender\\', as_index=False)[\\'Income\\'].mean()\\ndata[\\'Gender\\'] = data[\\'Gender\\'].map(groupedG.set_index(\\'Gender\\')[\\'Income\\'])\\n\\ngroupedHS = data.groupby(\\'Housing Situation\\', as_index=False)[\\'Income\\'].mean()\\ndata[\\'Housing Situation\\'] = data[\\'Housing Situation\\'].map(groupedHS.set_index(\\'Housing Situation\\')[\\'Income\\'])\\n\\ngroupedWE = data.groupby(\\'Work Experience in Current Job [years]\\', as_index=False)[\\'Income\\'].mean()\\ndata[\\'Work Experience in Current Job [years]\\'] = data[\\'Work Experience in Current Job [years]\\'].map(groupedWE.set_index(\\'Work Experience in Current Job [years]\\')[\\'Income\\'])\\n\\ngroupedSWE = data.groupby(\\'Satisfation with employer\\', as_index=False)[\\'Income\\'].mean()\\ndata[\\'Satisfation with employer\\'] = data[\\'Satisfation with employer\\'].map(groupedSWE.set_index(\\'Satisfation with employer\\')[\\'Income\\'])\\n\\ngroupedYIA = data.groupby(\\'Yearly Income in addition to Salary (e.g. Rental Income)\\', as_index=False)[\\'Income\\'].mean()\\ndata[\\'Yearly Income in addition to Salary (e.g. Rental Income)\\'] = data[\\'Yearly Income in addition to Salary (e.g. Rental Income)\\'].map(groupedYIA.set_index(\\'Yearly Income in addition to Salary (e.g. Rental Income)\\')[\\'Income\\'])\\n\\n\\n\\n\\n\\n\\ndataTest[\\'Profession\\'] = dataTest[\\'Profession\\'].map(groupedProf.set_index(\\'Profession\\')[\\'Income\\'])\\ndataTest[\\'Country\\'] = dataTest[\\'Country\\'].map(groupedCountry.set_index(\\'Country\\')[\\'Income\\'])\\ndataTest[\\'University Degree\\'] = dataTest[\\'University Degree\\'].map(groupedUD.set_index(\\'University Degree\\')[\\'Income\\'])\\ndataTest[\\'Gender\\'] = dataTest[\\'Gender\\'].map(groupedG.set_index(\\'Gender\\')[\\'Income\\'])\\ndataTest[\\'Housing Situation\\'] = dataTest[\\'Housing Situation\\'].map(groupedHS.set_index(\\'Housing Situation\\')[\\'Income\\'])\\ndataTest[\\'Work Experience in Current Job [years]\\'] = dataTest[\\'Work Experience in Current Job [years]\\'].map(groupedWE.set_index(\\'Work Experience in Current Job [years]\\')[\\'Income\\'])\\ndataTest[\\'Satisfation with employer\\'] = dataTest[\\'Satisfation with employer\\'].map(groupedSWE.set_index(\\'Satisfation with employer\\')[\\'Income\\'])\\ndataTest[\\'Yearly Income in addition to Salary (e.g. Rental Income)\\'] = dataTest[\\'Yearly Income in addition to Salary (e.g. Rental Income)\\'].map(groupedYIA.set_index(\\'Yearly Income in addition to Salary (e.g. Rental Income)\\')[\\'Income\\'])\\n\\n\\n#dataTest[[\"Country\"]] = dataTest[[\"Country\"]].fillna(value=dataTest[\"Country\"].mean())\\n#dataTest[[\"Profession\"]] = dataTest[[\"Profession\"]].fillna(value=dataTest[\"Profession\"].mean())'"
      ]
     },
     "execution_count": 12,
     "metadata": {},
     "output_type": "execute_result"
    }
   ],
   "source": [
    "'''groupedProf = data.groupby('Profession', as_index=False)['Income'].mean()\n",
    "data['Profession'] = data['Profession'].map(groupedProf.set_index('Profession')['Income'])\n",
    "\n",
    "groupedCountry = data.groupby('Country', as_index=False)['Income'].mean()\n",
    "data['Country'] = data['Country'].map(groupedCountry.set_index('Country')['Income'])\n",
    "\n",
    "groupedUD = data.groupby('University Degree', as_index=False)['Income'].mean()\n",
    "data['University Degree'] = data['University Degree'].map(groupedUD.set_index('University Degree')['Income'])\n",
    "\n",
    "groupedG = data.groupby('Gender', as_index=False)['Income'].mean()\n",
    "data['Gender'] = data['Gender'].map(groupedG.set_index('Gender')['Income'])\n",
    "\n",
    "groupedHS = data.groupby('Housing Situation', as_index=False)['Income'].mean()\n",
    "data['Housing Situation'] = data['Housing Situation'].map(groupedHS.set_index('Housing Situation')['Income'])\n",
    "\n",
    "groupedWE = data.groupby('Work Experience in Current Job [years]', as_index=False)['Income'].mean()\n",
    "data['Work Experience in Current Job [years]'] = data['Work Experience in Current Job [years]'].map(groupedWE.set_index('Work Experience in Current Job [years]')['Income'])\n",
    "\n",
    "groupedSWE = data.groupby('Satisfation with employer', as_index=False)['Income'].mean()\n",
    "data['Satisfation with employer'] = data['Satisfation with employer'].map(groupedSWE.set_index('Satisfation with employer')['Income'])\n",
    "\n",
    "groupedYIA = data.groupby('Yearly Income in addition to Salary (e.g. Rental Income)', as_index=False)['Income'].mean()\n",
    "data['Yearly Income in addition to Salary (e.g. Rental Income)'] = data['Yearly Income in addition to Salary (e.g. Rental Income)'].map(groupedYIA.set_index('Yearly Income in addition to Salary (e.g. Rental Income)')['Income'])\n",
    "\n",
    "\n",
    "\n",
    "\n",
    "\n",
    "\n",
    "dataTest['Profession'] = dataTest['Profession'].map(groupedProf.set_index('Profession')['Income'])\n",
    "dataTest['Country'] = dataTest['Country'].map(groupedCountry.set_index('Country')['Income'])\n",
    "dataTest['University Degree'] = dataTest['University Degree'].map(groupedUD.set_index('University Degree')['Income'])\n",
    "dataTest['Gender'] = dataTest['Gender'].map(groupedG.set_index('Gender')['Income'])\n",
    "dataTest['Housing Situation'] = dataTest['Housing Situation'].map(groupedHS.set_index('Housing Situation')['Income'])\n",
    "dataTest['Work Experience in Current Job [years]'] = dataTest['Work Experience in Current Job [years]'].map(groupedWE.set_index('Work Experience in Current Job [years]')['Income'])\n",
    "dataTest['Satisfation with employer'] = dataTest['Satisfation with employer'].map(groupedSWE.set_index('Satisfation with employer')['Income'])\n",
    "dataTest['Yearly Income in addition to Salary (e.g. Rental Income)'] = dataTest['Yearly Income in addition to Salary (e.g. Rental Income)'].map(groupedYIA.set_index('Yearly Income in addition to Salary (e.g. Rental Income)')['Income'])\n",
    "\n",
    "\n",
    "#dataTest[[\"Country\"]] = dataTest[[\"Country\"]].fillna(value=dataTest[\"Country\"].mean())\n",
    "#dataTest[[\"Profession\"]] = dataTest[[\"Profession\"]].fillna(value=dataTest[\"Profession\"].mean())'''"
   ]
  },
  {
   "cell_type": "code",
   "execution_count": 13,
   "metadata": {},
   "outputs": [
    {
     "data": {
      "text/plain": [
       "\"X = data.drop('Income', axis = 1).values\\ny = data['Income'].values\\n\\nX_train, X_test, y_train, y_test = train_test_split(X,y,test_size=0.2, random_state=2)\""
      ]
     },
     "execution_count": 13,
     "metadata": {},
     "output_type": "execute_result"
    }
   ],
   "source": [
    "'''X = data.drop('Income', axis = 1).values\n",
    "y = data['Income'].values\n",
    "\n",
    "X_train, X_test, y_train, y_test = train_test_split(X,y,test_size=0.2, random_state=2)'''"
   ]
  },
  {
   "cell_type": "code",
   "execution_count": 14,
   "metadata": {},
   "outputs": [
    {
     "data": {
      "text/plain": [
       "'\\nmodel = LinearRegression()\\nmodel.fit(X_train,y_train)\\ny_pred = model.predict(X_test)\\n\\ny_pred = y_pred.reshape(-1)\\n\\nprint(\"RMSE: \" + str(sqrt(mean_squared_error(np.exp(y_test), np.exp(y_pred)))))'"
      ]
     },
     "execution_count": 14,
     "metadata": {},
     "output_type": "execute_result"
    }
   ],
   "source": [
    "'''\n",
    "model = LinearRegression()\n",
    "model.fit(X_train,y_train)\n",
    "y_pred = model.predict(X_test)\n",
    "\n",
    "y_pred = y_pred.reshape(-1)\n",
    "\n",
    "print(\"RMSE: \" + str(sqrt(mean_squared_error(np.exp(y_test), np.exp(y_pred)))))'''"
   ]
  },
  {
   "cell_type": "code",
   "execution_count": null,
   "metadata": {},
   "outputs": [],
   "source": []
  },
  {
   "cell_type": "code",
   "execution_count": null,
   "metadata": {},
   "outputs": [],
   "source": []
  }
 ],
 "metadata": {
  "kernelspec": {
   "display_name": "Python 3",
   "language": "python",
   "name": "python3"
  },
  "language_info": {
   "codemirror_mode": {
    "name": "ipython",
    "version": 3
   },
   "file_extension": ".py",
   "mimetype": "text/x-python",
   "name": "python",
   "nbconvert_exporter": "python",
   "pygments_lexer": "ipython3",
   "version": "3.7.3"
  }
 },
 "nbformat": 4,
 "nbformat_minor": 2
}
